{
 "cells": [
  {
   "cell_type": "code",
   "execution_count": 1,
   "id": "447f4754-1a96-4237-8826-c71274f0074d",
   "metadata": {},
   "outputs": [],
   "source": [
    "import csv"
   ]
  },
  {
   "cell_type": "code",
   "execution_count": 2,
   "id": "df7c9448-8e96-492e-885d-de7940040159",
   "metadata": {},
   "outputs": [],
   "source": [
    "import matplotlib.pyplot as plt"
   ]
  },
  {
   "cell_type": "code",
   "execution_count": 3,
   "id": "b1a2909e-3bf0-4d61-aa7a-7c6222b5a013",
   "metadata": {},
   "outputs": [],
   "source": [
    "# Create lists of positive words, negative words, and brands"
   ]
  },
  {
   "cell_type": "code",
   "execution_count": 4,
   "id": "7f63e2eb-0143-4a88-9374-a05c9427528e",
   "metadata": {},
   "outputs": [],
   "source": [
    "positive_words = ['good', 'great', 'excellent', 'awesome', 'love', 'happy', 'amazing']"
   ]
  },
  {
   "cell_type": "code",
   "execution_count": 5,
   "id": "f8f3a097-6103-4f74-919c-6c7bfc62cddd",
   "metadata": {},
   "outputs": [],
   "source": [
    "negative_words = ['bad', 'terrible', 'awful', 'hate', 'sad', 'angry', 'worst']"
   ]
  },
  {
   "cell_type": "code",
   "execution_count": 6,
   "id": "3fb4cf11-33e3-44e2-992c-74c92968adff",
   "metadata": {},
   "outputs": [],
   "source": [
    "brands = ['apple', 'samsung', 'google', 'amazon', 'facebook', 'twitter', 'instagram']"
   ]
  },
  {
   "cell_type": "code",
   "execution_count": 7,
   "id": "860d2605-5a6a-46d5-a166-54015fac7be1",
   "metadata": {},
   "outputs": [],
   "source": [
    "# Save the Lists to CSV files"
   ]
  },
  {
   "cell_type": "code",
   "execution_count": 9,
   "id": "fff61506-dcd5-4f07-8222-99c8de991f61",
   "metadata": {},
   "outputs": [],
   "source": [
    "with open('positive_words.csv', 'w', newline='') as csvfile:\n",
    "    writer = csv.writer (csvfile)\n",
    "    writer.writerow(positive_words)"
   ]
  },
  {
   "cell_type": "code",
   "execution_count": 10,
   "id": "0b958553-0df0-4357-9541-b4c9b06df736",
   "metadata": {},
   "outputs": [],
   "source": [
    "with open('negative_words.csv', 'w', newline='') as csvfile:\n",
    "    writer = csv.writer(csvfile)\n",
    "    writer.writerow(negative_words)"
   ]
  },
  {
   "cell_type": "code",
   "execution_count": 11,
   "id": "97050f05-a43a-4283-b2c8-fd2d19ecd859",
   "metadata": {},
   "outputs": [],
   "source": [
    "with open('brands.csv', 'w', newline='') as csvfile:\n",
    "    writer = csv.writer (csvfile)\n",
    "    writer.writerow(brands)"
   ]
  },
  {
   "cell_type": "code",
   "execution_count": 12,
   "id": "47d0324b-98be-42f0-92da-052ee138980a",
   "metadata": {},
   "outputs": [],
   "source": [
    "# Load the CSV files into lists"
   ]
  },
  {
   "cell_type": "code",
   "execution_count": 14,
   "id": "25981fcd-6b54-4e28-a56f-00e03229dbb9",
   "metadata": {},
   "outputs": [],
   "source": [
    "with open('positive_words.csv', 'r') as csvfile:\n",
    "    reader = csv.reader (csvfile)\n",
    "    positive_words = list(reader) [0]"
   ]
  },
  {
   "cell_type": "code",
   "execution_count": 15,
   "id": "5899ea1a-f593-4176-96ca-46bde3bf50c7",
   "metadata": {},
   "outputs": [],
   "source": [
    "with open('negative_words.csv', 'r') as csvfile:\n",
    "    reader = csv.reader (csvfile)\n",
    "    negative_words = list(reader) [0]"
   ]
  },
  {
   "cell_type": "code",
   "execution_count": 19,
   "id": "5f823618-31e4-453a-9aa2-b557cbed4d68",
   "metadata": {},
   "outputs": [],
   "source": [
    "result = \"Brand mentioned: BrandName, Sentiment: Positive\"\n",
    "parts = dict(part.split(\": \") for part in result.split(\", \"))\n",
    "\n",
    "brand_mentioned = parts.get(\"Brand mentioned\", \"\").strip()\n",
    "sentiment = parts.get(\"Sentiment\", \"\").strip()"
   ]
  },
  {
   "cell_type": "code",
   "execution_count": 29,
   "id": "e92e8aaf-4dd1-49b5-9fab-3d76ba92a375",
   "metadata": {},
   "outputs": [
    {
     "name": "stdout",
     "output_type": "stream",
     "text": [
      "Sentiments: [None]\n",
      "Brands Mentioned: [None]\n"
     ]
    }
   ],
   "source": [
    "sentiments = []\n",
    "brands_mentioned = []\n",
    "\n",
    "result = \"some input string\"  # Replace with your actual input\n",
    "\n",
    "if \"Brand mentioned\" in result:\n",
    "    try:\n",
    "        brand_mentioned = result.split(\":\")[1].split(\",\")[0].strip()\n",
    "        sentiment = result.split(\":\")[2].strip()\n",
    "    except IndexError:\n",
    "        print(\"Error: The result format is incorrect.\")\n",
    "        brand_mentioned = None\n",
    "        sentiment = None\n",
    "else:\n",
    "    brand_mentioned = None\n",
    "    # Adjust the logic here if the sentiment should also be set to None or derived from elsewhere\n",
    "    sentiment = result.split(\":\")[1].strip() if \":\" in result else None\n",
    "\n",
    "# Append the values to the lists\n",
    "sentiments.append(sentiment)\n",
    "brands_mentioned.append(brand_mentioned)\n",
    "\n",
    "# For verification, print the lists\n",
    "print(\"Sentiments:\", sentiments)\n",
    "print(\"Brands Mentioned:\", brands_mentioned)\n",
    "\n"
   ]
  },
  {
   "cell_type": "code",
   "execution_count": 23,
   "id": "f8f274fc-8c72-4240-a507-aa64b2484554",
   "metadata": {},
   "outputs": [],
   "source": [
    "# Create a bar chart to display the sentiment analysis results"
   ]
  },
  {
   "cell_type": "code",
   "execution_count": 40,
   "id": "5ab4d798-8b7e-4394-9edc-5aa4ac686327",
   "metadata": {},
   "outputs": [
    {
     "data": {
      "image/png": "[encoded data removed]",
      "text/plain": [
       "<Figure size 800x600 with 1 Axes>"
      ]
     },
     "metadata": {},
     "output_type": "display_data"
    }
   ],
   "source": [
    "sentiments = ['positive', 'negative', 'neutral', 'neutral', 'positive', 'neutral', 'neutral']\n",
    "\n",
    "# Count the occurrences of each sentiment\n",
    "positive_count = sentiments.count('positive')\n",
    "negative_count = sentiments.count('negative')\n",
    "neutral_count = sentiments.count('neutral')\n",
    "\n",
    "# Create the bar chart\n",
    "plt.figure(figsize=(8, 6))  # Optional: specify a figure size\n",
    "plt.bar(['Positive', 'Negative', 'Neutral'], [positive_count, negative_count, neutral_count],)\n",
    "plt.xlabel('Sentiment')\n",
    "plt.ylabel('Count')\n",
    "plt.title('Sentiment Analysis Results')\n",
    "plt.xticks(rotation=0)  # Optional: to rotate x-axis labels if needed\n",
    "plt.show()\n"
   ]
  },
  {
   "cell_type": "code",
   "execution_count": 31,
   "id": "5e1f7385-d8df-4ce1-8020-ec7a27f24d5c",
   "metadata": {},
   "outputs": [],
   "source": [
    "# Create a pie chart to display the brand mentions"
   ]
  },
  {
   "cell_type": "code",
   "execution_count": 49,
   "id": "39d6a32d-2a03-4200-a488-d01f597f8c37",
   "metadata": {},
   "outputs": [
    {
     "data": {
      "image/png": "[encoded data removed]",
      "text/plain": [
       "<Figure size 800x600 with 1 Axes>"
      ]
     },
     "metadata": {},
     "output_type": "display_data"
    }
   ],
   "source": [
    "# Example data for brands mentioned\n",
    "brands_mentioned = ['google', 'twitter', 'google', 'twitter', 'google', 'twitter', None, 'google', 'twitter']\n",
    "\n",
    "# Define the list of brands\n",
    "brands = ['apple', 'samsung', 'google', 'amazon', 'facebook', 'twitter', 'instagram']\n",
    "\n",
    "# Filter out None values from brands_mentioned\n",
    "brands_mentioned = [brand for brand in brands_mentioned if brand is not None]\n",
    "\n",
    "# Count mentions for each brand\n",
    "counts = [brands_mentioned.count(brand) for brand in brands]\n",
    "\n",
    "# Create the pie chart\n",
    "plt.figure(figsize=(8, 6))  # Optional: specify a figure size\n",
    "plt.pie(counts, labels=brands, autopct='%1.1f%%', startangle=140)\n",
    "plt.title('Brand Mentions')\n",
    "plt.axis('equal')  # Equal aspect ratio ensures that pie is drawn as a circle.\n",
    "plt.show()\n"
   ]
  },
  {
   "cell_type": "code",
   "execution_count": 50,
   "id": "e9447f1c-5653-49c7-8a99-f658aca0d412",
   "metadata": {},
   "outputs": [],
   "source": [
    "# Load the CSV files into lists"
   ]
  },
  {
   "cell_type": "code",
   "execution_count": 53,
   "id": "3ed4157b-ceb7-4b9b-89a4-a982e2545468",
   "metadata": {},
   "outputs": [],
   "source": [
    "with open('positive_words.csv', 'r') as csvfile:\n",
    "    reader = csv.reader (csvfile)\n",
    "    positive_words = list(reader) [0]"
   ]
  },
  {
   "cell_type": "code",
   "execution_count": 54,
   "id": "446cdc31-4e6b-41ef-b433-b5179c3dcb05",
   "metadata": {},
   "outputs": [],
   "source": [
    "with open('negative_words.csv', 'r') as csvfile:\n",
    "    reader = csv.reader (csvfile)\n",
    "    negative_words = list(reader) [0]"
   ]
  },
  {
   "cell_type": "code",
   "execution_count": 55,
   "id": "22db727b-24e6-4373-8917-9b6f98b214b1",
   "metadata": {},
   "outputs": [],
   "source": [
    "with open('brands.csv', 'r') as csvfile:\n",
    "    reader = csv.reader (csvfile)\n",
    "    brands = list(reader)[0]"
   ]
  },
  {
   "cell_type": "code",
   "execution_count": null,
   "id": "5580e842-9017-42e1-9776-7edaab29cd69",
   "metadata": {},
   "outputs": [],
   "source": [
    "# Define the sentiment analysis function"
   ]
  },
  {
   "cell_type": "code",
   "execution_count": 71,
   "id": "8359c081-15d5-4da5-b2f3-c94df00e0438",
   "metadata": {},
   "outputs": [],
   "source": [
    "def sentiment_analysis(text):\n",
    "    text = text.lower()  # Convert text to lowercase\n",
    "    words = text.split()  # Split text into words\n",
    "    positive_count = 0\n",
    "    negative_count = 0\n",
    "    brand_mentioned = None\n",
    "\n",
    "    for word in words:  # Iterate through each word\n",
    "        if word in positive_words:\n",
    "            positive_count += 1\n",
    "        if word in negative_words:\n",
    "            negative_count += 1\n",
    "        if word in brands:\n",
    "            brand_mentioned = word  # Store the brand mentioned\n",
    "\n",
    "    # Determine overall sentiment\n",
    "    if positive_count > negative_count:\n",
    "        sentiment = 'positive'\n",
    "    elif positive_count < negative_count:\n",
    "        sentiment = 'negative'\n",
    "    else:\n",
    "        sentiment = 'neutral'  # Equal counts for positive and negative\n",
    "\n",
    "    # Return formatted string based on whether a brand was mentioned\n",
    "    if brand_mentioned:\n",
    "        return f\"Brand mentioned: {brand_mentioned}, Sentiment: {sentiment}\"\n",
    "    else:\n",
    "        return f\"Sentiment: {sentiment}\""
   ]
  },
  {
   "cell_type": "code",
   "execution_count": 72,
   "id": "b37cd481-e906-456f-a36f-3287f2b34d06",
   "metadata": {},
   "outputs": [],
   "source": [
    "# Test the sentiment analyzer"
   ]
  },
  {
   "cell_type": "code",
   "execution_count": 77,
   "id": "e9718515-33a5-4e70-a512-84d9355d9695",
   "metadata": {},
   "outputs": [
    {
     "name": "stdout",
     "output_type": "stream",
     "text": [
      "Text:  I'm neutral about Amazon's new drone delivery service.\n",
      "Sentiment: neutral\n",
      "\n"
     ]
    }
   ],
   "source": [
    "texts = [\n",
    "    \"I love my new iPhone from Apple!\",\n",
    "\"Samsung's customer service is terrible.\", \"I'm so happy with my Google Pixel phone.\",\n",
    "\"I hate Facebook's new algorithm.\",\n",
    "\"Twitter is my favorite social media platform.\", \"Instagram's new feature is amazing!\",\n",
    "\"I'm neutral about Amazon's new drone delivery service.\"\n",
    "]\n",
    "sentiments = []\n",
    "brands_mentioned = []\n",
    "for text in texts:\n",
    "    result = sentiment_analysis(text)\n",
    "print(\"Text: \", text)\n",
    "print(result)\n",
    "print()"
   ]
  }
 ],
 "metadata": {
  "kernelspec": {
   "display_name": "Python 3 (ipykernel)",
   "language": "python",
   "name": "python3"
  },
  "language_info": {
   "codemirror_mode": {
    "name": "ipython",
    "version": 3
   },
   "file_extension": ".py",
   "mimetype": "text/x-python",
   "name": "python",
   "nbconvert_exporter": "python",
   "pygments_lexer": "ipython3",
   "version": "3.12.0"
  }
 },
 "nbformat": 4,
 "nbformat_minor": 5
}
