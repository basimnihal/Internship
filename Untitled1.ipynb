{
 "cells": [
  {
   "cell_type": "code",
   "execution_count": 1,
   "id": "196ff585-812a-4f8a-b692-5145b799cd4f",
   "metadata": {},
   "outputs": [],
   "source": [
    "import numpy as np"
   ]
  },
  {
   "cell_type": "code",
   "execution_count": 2,
   "id": "21235f81-41d8-4394-99fc-791965c5182d",
   "metadata": {},
   "outputs": [],
   "source": [
    "python_list = [1,2,3,4,-5]"
   ]
  },
  {
   "cell_type": "code",
   "execution_count": 3,
   "id": "28305fef-a815-41ad-a1de-c547e8e6ee72",
   "metadata": {},
   "outputs": [
    {
     "data": {
      "text/plain": [
       "[1, 2, 3, 4, -5]"
      ]
     },
     "execution_count": 3,
     "metadata": {},
     "output_type": "execute_result"
    }
   ],
   "source": [
    "python_list"
   ]
  },
  {
   "cell_type": "code",
   "execution_count": 5,
   "id": "da5d599e-de1c-4789-89bc-f6fff294c5fe",
   "metadata": {},
   "outputs": [],
   "source": [
    "numpy_arr = np.array(python_list)"
   ]
  },
  {
   "cell_type": "code",
   "execution_count": 8,
   "id": "492c37d2-c0f5-42fc-a48b-8782826f8f6c",
   "metadata": {},
   "outputs": [
    {
     "data": {
      "text/plain": [
       "1"
      ]
     },
     "execution_count": 8,
     "metadata": {},
     "output_type": "execute_result"
    }
   ],
   "source": [
    "len(numpy_arr.shape)"
   ]
  },
  {
   "cell_type": "code",
   "execution_count": 9,
   "id": "c3f1ea7d-4374-4651-9cd0-34bd63b7f586",
   "metadata": {},
   "outputs": [],
   "source": [
    "python_list_list = [[1,2],[3,4]]"
   ]
  },
  {
   "cell_type": "code",
   "execution_count": 10,
   "id": "66bb14a2-26a1-4169-a59c-4b2dd3235c66",
   "metadata": {},
   "outputs": [
    {
     "data": {
      "text/plain": [
       "[[1, 2], [3, 4]]"
      ]
     },
     "execution_count": 10,
     "metadata": {},
     "output_type": "execute_result"
    }
   ],
   "source": [
    "python_list_list"
   ]
  },
  {
   "cell_type": "code",
   "execution_count": 12,
   "id": "27d7bb0d-4d04-41bf-948d-d47e9aaee625",
   "metadata": {},
   "outputs": [],
   "source": [
    "numpy_arr2 = np.array(python_list_list)"
   ]
  },
  {
   "cell_type": "code",
   "execution_count": 14,
   "id": "98e2c61d-b312-4860-81a2-ffd6612acb34",
   "metadata": {},
   "outputs": [
    {
     "data": {
      "text/plain": [
       "2"
      ]
     },
     "execution_count": 14,
     "metadata": {},
     "output_type": "execute_result"
    }
   ],
   "source": [
    "len(numpy_arr2.shape)"
   ]
  },
  {
   "cell_type": "code",
   "execution_count": 15,
   "id": "b0ea976e-0850-49e8-96b1-2d6d006bc867",
   "metadata": {},
   "outputs": [
    {
     "data": {
      "text/plain": [
       "array([[1, 2],\n",
       "       [3, 4]])"
      ]
     },
     "execution_count": 15,
     "metadata": {},
     "output_type": "execute_result"
    }
   ],
   "source": [
    "numpy_arr2"
   ]
  },
  {
   "cell_type": "code",
   "execution_count": 16,
   "id": "0fa22ba1-25c0-45ce-bb0a-5ad3eeba27d3",
   "metadata": {},
   "outputs": [],
   "source": [
    "python_list_list = [[1,2,5],[3,4,6]]"
   ]
  },
  {
   "cell_type": "code",
   "execution_count": 17,
   "id": "df014f36-f7ff-4166-8920-7c09060087c1",
   "metadata": {},
   "outputs": [
    {
     "data": {
      "text/plain": [
       "(2, 3)"
      ]
     },
     "execution_count": 17,
     "metadata": {},
     "output_type": "execute_result"
    }
   ],
   "source": [
    "np.array(python_list_list).shape"
   ]
  },
  {
   "cell_type": "code",
   "execution_count": 20,
   "id": "01bda78b-e8fc-45d9-b91b-13cf9ae01d16",
   "metadata": {},
   "outputs": [
    {
     "data": {
      "text/plain": [
       "[0, 1, 2, 3, 4]"
      ]
     },
     "execution_count": 20,
     "metadata": {},
     "output_type": "execute_result"
    }
   ],
   "source": [
    "list(range(5))"
   ]
  },
  {
   "cell_type": "code",
   "execution_count": 21,
   "id": "e3349d61-a245-4f2f-8187-f7c68fb6a538",
   "metadata": {},
   "outputs": [
    {
     "data": {
      "text/plain": [
       "array([0, 1, 2, 3, 4])"
      ]
     },
     "execution_count": 21,
     "metadata": {},
     "output_type": "execute_result"
    }
   ],
   "source": [
    "np.arange(5)"
   ]
  },
  {
   "cell_type": "code",
   "execution_count": 28,
   "id": "8517b198-d4ed-4148-99b5-c63da2af4fe9",
   "metadata": {},
   "outputs": [
    {
     "data": {
      "text/plain": [
       "array([[1., 1.],\n",
       "       [1., 1.]])"
      ]
     },
     "execution_count": 28,
     "metadata": {},
     "output_type": "execute_result"
    }
   ],
   "source": [
    "np.ones((2,2,))"
   ]
  },
  {
   "cell_type": "code",
   "execution_count": 31,
   "id": "50763260-5476-46fb-bf91-546d03271d3d",
   "metadata": {},
   "outputs": [
    {
     "data": {
      "text/plain": [
       "array([[2, 3],\n",
       "       [4, 3]])"
      ]
     },
     "execution_count": 31,
     "metadata": {},
     "output_type": "execute_result"
    }
   ],
   "source": [
    "np.random.randint(5,size=(2,2))"
   ]
  }
 ],
 "metadata": {
  "kernelspec": {
   "display_name": "Python 3 (ipykernel)",
   "language": "python",
   "name": "python3"
  },
  "language_info": {
   "codemirror_mode": {
    "name": "ipython",
    "version": 3
   },
   "file_extension": ".py",
   "mimetype": "text/x-python",
   "name": "python",
   "nbconvert_exporter": "python",
   "pygments_lexer": "ipython3",
   "version": "3.12.0"
  }
 },
 "nbformat": 4,
 "nbformat_minor": 5
}
