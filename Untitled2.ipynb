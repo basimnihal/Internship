{
 "cells": [
  {
   "cell_type": "code",
   "execution_count": 1,
   "id": "570e1917-97e2-4740-9297-22ad3e124c47",
   "metadata": {},
   "outputs": [],
   "source": [
    "import numpy as np"
   ]
  },
  {
   "cell_type": "code",
   "execution_count": 2,
   "id": "da07f4dc-cab9-430c-8760-be3d3de4b4de",
   "metadata": {},
   "outputs": [],
   "source": [
    "a = [1,2,3,4]"
   ]
  },
  {
   "cell_type": "code",
   "execution_count": 8,
   "id": "d2fe15ec-6541-424f-9ef5-68b49b5c185b",
   "metadata": {},
   "outputs": [],
   "source": [
    "arr = np.array(a,dtype=np.int64)"
   ]
  },
  {
   "cell_type": "code",
   "execution_count": 9,
   "id": "247afc3c-8cce-41ba-9e34-bc4859eb7f42",
   "metadata": {},
   "outputs": [
    {
     "data": {
      "text/plain": [
       "dtype('int64')"
      ]
     },
     "execution_count": 9,
     "metadata": {},
     "output_type": "execute_result"
    }
   ],
   "source": [
    "arr.dtype"
   ]
  },
  {
   "cell_type": "code",
   "execution_count": 19,
   "id": "ea4a2b13-248f-47e0-9517-7be13ac1e414",
   "metadata": {},
   "outputs": [],
   "source": [
    "a=[1.2,3.4,5,]"
   ]
  },
  {
   "cell_type": "code",
   "execution_count": 17,
   "id": "2530eb6d-ec21-4344-a911-aa29c4ad564d",
   "metadata": {},
   "outputs": [
    {
     "data": {
      "text/plain": [
       "str"
      ]
     },
     "execution_count": 17,
     "metadata": {},
     "output_type": "execute_result"
    }
   ],
   "source": [
    "type(a[-1])"
   ]
  },
  {
   "cell_type": "code",
   "execution_count": 20,
   "id": "9af29129-3ab8-44c9-bf3b-bcbfb9075900",
   "metadata": {},
   "outputs": [],
   "source": [
    "float_arr = np.array(a)"
   ]
  },
  {
   "cell_type": "code",
   "execution_count": 21,
   "id": "ff66c2fb-4ac0-4815-a3b0-1ce3fdbd26ca",
   "metadata": {},
   "outputs": [
    {
     "data": {
      "text/plain": [
       "array([1.2, 3.4, 5. ])"
      ]
     },
     "execution_count": 21,
     "metadata": {},
     "output_type": "execute_result"
    }
   ],
   "source": [
    "float_arr"
   ]
  },
  {
   "cell_type": "code",
   "execution_count": 24,
   "id": "a773d393-2ca5-47a7-83cd-2525a7df5933",
   "metadata": {},
   "outputs": [
    {
     "data": {
      "text/plain": [
       "dtype('int32')"
      ]
     },
     "execution_count": 24,
     "metadata": {},
     "output_type": "execute_result"
    }
   ],
   "source": [
    "float_arr.astype(int).dtype"
   ]
  },
  {
   "cell_type": "code",
   "execution_count": null,
   "id": "f0fe5943-e44e-4501-996b-6cd4e6caf351",
   "metadata": {},
   "outputs": [],
   "source": []
  }
 ],
 "metadata": {
  "kernelspec": {
   "display_name": "Python 3 (ipykernel)",
   "language": "python",
   "name": "python3"
  },
  "language_info": {
   "codemirror_mode": {
    "name": "ipython",
    "version": 3
   },
   "file_extension": ".py",
   "mimetype": "text/x-python",
   "name": "python",
   "nbconvert_exporter": "python",
   "pygments_lexer": "ipython3",
   "version": "3.12.0"
  }
 },
 "nbformat": 4,
 "nbformat_minor": 5
}
