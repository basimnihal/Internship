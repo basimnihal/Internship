{
 "cells": [
  {
   "cell_type": "code",
   "execution_count": 3,
   "id": "cda20519-4e67-4515-8e73-0217c5416246",
   "metadata": {},
   "outputs": [],
   "source": [
    "import numpy as np"
   ]
  },
  {
   "cell_type": "code",
   "execution_count": 4,
   "id": "ff0806fc-dec4-4651-86de-af25341d0f93",
   "metadata": {},
   "outputs": [],
   "source": [
    "arr = np.random.rand(5,5)"
   ]
  },
  {
   "cell_type": "code",
   "execution_count": 5,
   "id": "4aa80caf-fa9b-4069-9902-9e1b571ad227",
   "metadata": {},
   "outputs": [
    {
     "data": {
      "text/plain": [
       "array([[0.27071784, 0.35831264, 0.62518776, 0.43999013, 0.79584047],\n",
       "       [0.86087328, 0.5514436 , 0.98395394, 0.82423705, 0.43104083],\n",
       "       [0.88941345, 0.08952819, 0.79467782, 0.61878558, 0.36275093],\n",
       "       [0.96032971, 0.60918443, 0.13367857, 0.45412024, 0.8615294 ],\n",
       "       [0.11979678, 0.52081905, 0.11503922, 0.57197194, 0.99307804]])"
      ]
     },
     "execution_count": 5,
     "metadata": {},
     "output_type": "execute_result"
    }
   ],
   "source": [
    "arr"
   ]
  },
  {
   "cell_type": "code",
   "execution_count": 6,
   "id": "7edb23c4-26dd-44f0-9cea-b3717684661f",
   "metadata": {},
   "outputs": [
    {
     "data": {
      "text/plain": [
       "(5, 5)"
      ]
     },
     "execution_count": 6,
     "metadata": {},
     "output_type": "execute_result"
    }
   ],
   "source": [
    "arr.shape"
   ]
  },
  {
   "cell_type": "code",
   "execution_count": 7,
   "id": "6327f1e8-8232-400c-a2a7-1eef6099151a",
   "metadata": {},
   "outputs": [
    {
     "data": {
      "text/plain": [
       "dtype('float64')"
      ]
     },
     "execution_count": 7,
     "metadata": {},
     "output_type": "execute_result"
    }
   ],
   "source": [
    "arr.dtype"
   ]
  },
  {
   "cell_type": "code",
   "execution_count": 8,
   "id": "7ddb33a6-1465-4443-9818-650f1f87dfd6",
   "metadata": {},
   "outputs": [
    {
     "data": {
      "text/plain": [
       "array([[0.27071784, 0.35831264, 0.62518776, 0.43999013, 0.79584047],\n",
       "       [0.86087328, 0.5514436 , 0.98395394, 0.82423705, 0.43104083],\n",
       "       [0.88941345, 0.08952819, 0.79467782, 0.61878558, 0.36275093],\n",
       "       [0.96032971, 0.60918443, 0.13367857, 0.45412024, 0.8615294 ]])"
      ]
     },
     "execution_count": 8,
     "metadata": {},
     "output_type": "execute_result"
    }
   ],
   "source": [
    "arr[:4]"
   ]
  },
  {
   "cell_type": "code",
   "execution_count": 10,
   "id": "c656b4e2-f5f8-4b1e-9123-de5cca589fe2",
   "metadata": {},
   "outputs": [
    {
     "data": {
      "text/plain": [
       "(4, 5)"
      ]
     },
     "execution_count": 10,
     "metadata": {},
     "output_type": "execute_result"
    }
   ],
   "source": [
    "arr[:4].shape"
   ]
  },
  {
   "cell_type": "code",
   "execution_count": 11,
   "id": "9f35d932-7f34-4bff-843a-e290a2db6de7",
   "metadata": {},
   "outputs": [
    {
     "data": {
      "text/plain": [
       "array([[0.27071784, 0.35831264, 0.62518776, 0.43999013],\n",
       "       [0.86087328, 0.5514436 , 0.98395394, 0.82423705],\n",
       "       [0.88941345, 0.08952819, 0.79467782, 0.61878558],\n",
       "       [0.96032971, 0.60918443, 0.13367857, 0.45412024],\n",
       "       [0.11979678, 0.52081905, 0.11503922, 0.57197194]])"
      ]
     },
     "execution_count": 11,
     "metadata": {},
     "output_type": "execute_result"
    }
   ],
   "source": [
    "arr[:, :4]"
   ]
  },
  {
   "cell_type": "code",
   "execution_count": 14,
   "id": "67833956-2f28-4355-8c20-d71ebcb10cfc",
   "metadata": {},
   "outputs": [
    {
     "data": {
      "text/plain": [
       "0.5514435966842743"
      ]
     },
     "execution_count": 14,
     "metadata": {},
     "output_type": "execute_result"
    }
   ],
   "source": [
    "arr[1,1]"
   ]
  },
  {
   "cell_type": "code",
   "execution_count": 16,
   "id": "52dbffb2-f076-4ee6-aa30-2815bc645a93",
   "metadata": {},
   "outputs": [
    {
     "data": {
      "text/plain": [
       "array([[0.27071784, 0.35831264, 0.62518776, 0.43999013, 0.79584047],\n",
       "       [0.86087328, 0.5514436 , 0.98395394, 0.82423705, 0.43104083],\n",
       "       [0.88941345, 0.08952819, 0.79467782, 0.61878558, 0.36275093]])"
      ]
     },
     "execution_count": 16,
     "metadata": {},
     "output_type": "execute_result"
    }
   ],
   "source": [
    "arr[:-2]"
   ]
  },
  {
   "cell_type": "code",
   "execution_count": 17,
   "id": "48f1ce6c-d6b6-4d76-8193-4e9427b2b693",
   "metadata": {},
   "outputs": [],
   "source": [
    "int_arr = np.random.randint(5, size=(6,8))"
   ]
  },
  {
   "cell_type": "code",
   "execution_count": 19,
   "id": "97f6d748-78a2-4efa-957d-e9af17b15db0",
   "metadata": {},
   "outputs": [],
   "source": [
    "int_arr_0 = int_arr[0]"
   ]
  },
  {
   "cell_type": "code",
   "execution_count": 22,
   "id": "e72f828a-e777-44eb-83ab-2fc5bb6426a3",
   "metadata": {},
   "outputs": [
    {
     "data": {
      "text/plain": [
       "array([0, 1, 4, 2, 0, 2, 0, 4])"
      ]
     },
     "execution_count": 22,
     "metadata": {},
     "output_type": "execute_result"
    }
   ],
   "source": [
    "int_arr_0 "
   ]
  },
  {
   "cell_type": "code",
   "execution_count": 25,
   "id": "ccab16ea-94f9-4f32-bb7a-fa46f073d6d0",
   "metadata": {},
   "outputs": [],
   "source": [
    "int_arr_0_012 = (int_arr_0 == 0) | (int_arr_0 == 1) | (int_arr_0 == 2)"
   ]
  },
  {
   "cell_type": "code",
   "execution_count": 26,
   "id": "378826a2-2f33-4961-b961-3f912edd522e",
   "metadata": {},
   "outputs": [
    {
     "data": {
      "text/plain": [
       "array([ True,  True, False,  True,  True,  True,  True, False])"
      ]
     },
     "execution_count": 26,
     "metadata": {},
     "output_type": "execute_result"
    }
   ],
   "source": [
    "int_arr_0_012"
   ]
  },
  {
   "cell_type": "code",
   "execution_count": 27,
   "id": "a2766d6d-ff67-4cd1-b71d-a91d136fdc2f",
   "metadata": {},
   "outputs": [
    {
     "data": {
      "text/plain": [
       "array([0, 1, 2, 0, 2, 0])"
      ]
     },
     "execution_count": 27,
     "metadata": {},
     "output_type": "execute_result"
    }
   ],
   "source": [
    "int_arr_0[int_arr_0_012]"
   ]
  },
  {
   "cell_type": "code",
   "execution_count": null,
   "id": "8990a985-f433-436d-9897-0ce68da6c000",
   "metadata": {},
   "outputs": [],
   "source": []
  }
 ],
 "metadata": {
  "kernelspec": {
   "display_name": "Python 3 (ipykernel)",
   "language": "python",
   "name": "python3"
  },
  "language_info": {
   "codemirror_mode": {
    "name": "ipython",
    "version": 3
   },
   "file_extension": ".py",
   "mimetype": "text/x-python",
   "name": "python",
   "nbconvert_exporter": "python",
   "pygments_lexer": "ipython3",
   "version": "3.12.0"
  }
 },
 "nbformat": 4,
 "nbformat_minor": 5
}
