{
 "cells": [
  {
   "cell_type": "code",
   "execution_count": 1,
   "id": "c6e245f8-7eb3-4a72-ba9e-ea8f04b78b40",
   "metadata": {},
   "outputs": [],
   "source": [
    "import numpy as np"
   ]
  },
  {
   "cell_type": "code",
   "execution_count": 2,
   "id": "9f264c08-7caf-497b-ba40-3d10c6194a0e",
   "metadata": {},
   "outputs": [],
   "source": [
    "marks = [[1,2,3,4],[5,6,7,8],[9,10,11,12]]"
   ]
  },
  {
   "cell_type": "code",
   "execution_count": 4,
   "id": "c60080fc-b426-4920-92ec-76d03b917f45",
   "metadata": {},
   "outputs": [],
   "source": [
    "marks_transpose = []\n",
    "for j in range(len(marks[0])):\n",
    "    marks_transpose.append([])\n",
    "    for i in range(len(marks)):\n",
    "        marks_transpose[j].append(marks[i][j])"
   ]
  },
  {
   "cell_type": "code",
   "execution_count": 5,
   "id": "3650243b-a7b5-4cc3-8c5a-f27b9f5ffce7",
   "metadata": {},
   "outputs": [
    {
     "data": {
      "text/plain": [
       "[[1, 5, 9], [2, 6, 10], [3, 7, 11], [4, 8, 12]]"
      ]
     },
     "execution_count": 5,
     "metadata": {},
     "output_type": "execute_result"
    }
   ],
   "source": [
    "marks_transpose"
   ]
  },
  {
   "cell_type": "code",
   "execution_count": 6,
   "id": "2a6ff788-dd9f-4b21-9b2b-d6df8b95c398",
   "metadata": {},
   "outputs": [],
   "source": [
    "marks_array = np.array(marks)"
   ]
  },
  {
   "cell_type": "code",
   "execution_count": 7,
   "id": "f6a61b7f-3362-4b8c-ab34-bcebb69e0052",
   "metadata": {},
   "outputs": [
    {
     "data": {
      "text/plain": [
       "array([[ 1,  2,  3,  4],\n",
       "       [ 5,  6,  7,  8],\n",
       "       [ 9, 10, 11, 12]])"
      ]
     },
     "execution_count": 7,
     "metadata": {},
     "output_type": "execute_result"
    }
   ],
   "source": [
    "marks_array"
   ]
  },
  {
   "cell_type": "code",
   "execution_count": 8,
   "id": "29c6f26e-1c1f-4ea3-9ce8-8e5f9f4a562d",
   "metadata": {},
   "outputs": [
    {
     "data": {
      "text/plain": [
       "array([[ 1,  5,  9],\n",
       "       [ 2,  6, 10],\n",
       "       [ 3,  7, 11],\n",
       "       [ 4,  8, 12]])"
      ]
     },
     "execution_count": 8,
     "metadata": {},
     "output_type": "execute_result"
    }
   ],
   "source": [
    "marks_array.T"
   ]
  },
  {
   "cell_type": "code",
   "execution_count": 9,
   "id": "602e3073-f6a3-4cba-8482-e6d245c433d9",
   "metadata": {},
   "outputs": [
    {
     "data": {
      "text/plain": [
       "array([16.66666667, 43.33333333, 70.        ])"
      ]
     },
     "execution_count": 9,
     "metadata": {},
     "output_type": "execute_result"
    }
   ],
   "source": [
    "marks_array.sum(axis=1)/60*100"
   ]
  },
  {
   "cell_type": "code",
   "execution_count": 10,
   "id": "b29f3fdf-2dbc-49fb-9e52-3cb8b3cdc23c",
   "metadata": {},
   "outputs": [
    {
     "data": {
      "text/plain": [
       "array([15, 18, 21, 24])"
      ]
     },
     "execution_count": 10,
     "metadata": {},
     "output_type": "execute_result"
    }
   ],
   "source": [
    "marks_array.T.sum(axis=1)"
   ]
  },
  {
   "cell_type": "code",
   "execution_count": 11,
   "id": "2c41e829-59b6-4af6-8496-4f4217628908",
   "metadata": {},
   "outputs": [
    {
     "data": {
      "text/plain": [
       "array([[ 1,  2,  3,  4],\n",
       "       [ 5,  6,  7,  8],\n",
       "       [ 9, 10, 11, 12]])"
      ]
     },
     "execution_count": 11,
     "metadata": {},
     "output_type": "execute_result"
    }
   ],
   "source": [
    "marks_array"
   ]
  },
  {
   "cell_type": "code",
   "execution_count": 12,
   "id": "2afcab54-4b5f-4ae4-8575-8fab4327f3b1",
   "metadata": {},
   "outputs": [],
   "source": [
    "grace_marks = np.array([[1,2,3]]).T"
   ]
  },
  {
   "cell_type": "code",
   "execution_count": 13,
   "id": "0c7c09cc-bbe5-4cc2-b6d3-da5faa066d0e",
   "metadata": {},
   "outputs": [
    {
     "data": {
      "text/plain": [
       "array([[ 2,  3,  4,  5],\n",
       "       [ 7,  8,  9, 10],\n",
       "       [12, 13, 14, 15]])"
      ]
     },
     "execution_count": 13,
     "metadata": {},
     "output_type": "execute_result"
    }
   ],
   "source": [
    "marks_array+grace_marks"
   ]
  },
  {
   "cell_type": "code",
   "execution_count": 14,
   "id": "831bf644-969a-4b61-b23a-6e9425737455",
   "metadata": {},
   "outputs": [
    {
     "data": {
      "text/plain": [
       "(3, 1)"
      ]
     },
     "execution_count": 14,
     "metadata": {},
     "output_type": "execute_result"
    }
   ],
   "source": [
    "grace_marks.shape"
   ]
  },
  {
   "cell_type": "code",
   "execution_count": 31,
   "id": "8de9a6ae-df15-4ed4-af0d-a1607f9c654c",
   "metadata": {},
   "outputs": [],
   "source": [
    "weights_list = [[0.4],[0.2],[0.2],[0.2]]"
   ]
  },
  {
   "cell_type": "code",
   "execution_count": 33,
   "id": "12041832-4de7-49f5-a099-c7730b3adeeb",
   "metadata": {},
   "outputs": [
    {
     "data": {
      "text/plain": [
       "[[0.4], [0.2], [0.2], [0.2]]"
      ]
     },
     "execution_count": 33,
     "metadata": {},
     "output_type": "execute_result"
    }
   ],
   "source": [
    "weights_list"
   ]
  },
  {
   "cell_type": "code",
   "execution_count": 18,
   "id": "151b0f38-7d2f-49da-8bbe-cabd4a0426bb",
   "metadata": {},
   "outputs": [
    {
     "data": {
      "text/plain": [
       "[[1, 2, 3, 4], [5, 6, 7, 8], [9, 10, 11, 12]]"
      ]
     },
     "execution_count": 18,
     "metadata": {},
     "output_type": "execute_result"
    }
   ],
   "source": [
    "marks"
   ]
  },
  {
   "cell_type": "code",
   "execution_count": 36,
   "id": "a9d0e823-5adc-4ca2-978b-66a0782c666c",
   "metadata": {},
   "outputs": [
    {
     "ename": "IndexError",
     "evalue": "list index out of range",
     "output_type": "error",
     "traceback": [
      "\u001b[1;31m---------------------------------------------------------------------------\u001b[0m",
      "\u001b[1;31mIndexError\u001b[0m                                Traceback (most recent call last)",
      "Cell \u001b[1;32mIn[36], line 7\u001b[0m\n\u001b[0;32m      5\u001b[0m curr_sum \u001b[38;5;241m=\u001b[39m \u001b[38;5;241m0\u001b[39m\n\u001b[0;32m      6\u001b[0m \u001b[38;5;28;01mfor\u001b[39;00m k \u001b[38;5;129;01min\u001b[39;00m \u001b[38;5;28mrange\u001b[39m(\u001b[38;5;28mlen\u001b[39m(marks[i])):\n\u001b[1;32m----> 7\u001b[0m     curr_sum \u001b[38;5;241m+\u001b[39m\u001b[38;5;241m=\u001b[39m marks[i][k]\u001b[38;5;241m*\u001b[39m\u001b[43mweights_list\u001b[49m\u001b[43m[\u001b[49m\u001b[43mj\u001b[49m\u001b[43m]\u001b[49m\u001b[43m[\u001b[49m\u001b[43mk\u001b[49m\u001b[43m]\u001b[49m\n\u001b[0;32m      8\u001b[0m results\u001b[38;5;241m.\u001b[39mappend(curr_sum)\n",
      "\u001b[1;31mIndexError\u001b[0m: list index out of range"
     ]
    }
   ],
   "source": [
    "results = []\n",
    "for i in range(len(marks)):\n",
    "    for j in range(len(weights_list)):\n",
    "        # marks[i]*weights_list[j]\n",
    "        curr_sum = 0\n",
    "        for k in range(len(marks[i])):\n",
    "            curr_sum += marks[i][k]*weights_list[j][k]\n",
    "        results.append(curr_sum)"
   ]
  },
  {
   "cell_type": "code",
   "execution_count": 27,
   "id": "f232d7b9-20ce-4a56-bf87-77d2bb92b6b8",
   "metadata": {},
   "outputs": [
    {
     "data": {
      "text/plain": [
       "[2.2, 6.200000000000001, 10.2]"
      ]
     },
     "execution_count": 27,
     "metadata": {},
     "output_type": "execute_result"
    }
   ],
   "source": [
    "results"
   ]
  },
  {
   "cell_type": "code",
   "execution_count": 28,
   "id": "24c6a8f7-82d6-48f0-be39-f39edf98cd40",
   "metadata": {},
   "outputs": [
    {
     "data": {
      "text/plain": [
       "array([[ 1,  2,  3,  4],\n",
       "       [ 5,  6,  7,  8],\n",
       "       [ 9, 10, 11, 12]])"
      ]
     },
     "execution_count": 28,
     "metadata": {},
     "output_type": "execute_result"
    }
   ],
   "source": [
    "marks_array"
   ]
  },
  {
   "cell_type": "code",
   "execution_count": 37,
   "id": "0982a3f8-7366-4b53-aef4-b00d777c4878",
   "metadata": {},
   "outputs": [
    {
     "data": {
      "text/plain": [
       "array([[0.4],\n",
       "       [0.2],\n",
       "       [0.2],\n",
       "       [0.2]])"
      ]
     },
     "execution_count": 37,
     "metadata": {},
     "output_type": "execute_result"
    }
   ],
   "source": [
    "weights_array = np.array(weights_list)\n",
    "weights_array"
   ]
  },
  {
   "cell_type": "code",
   "execution_count": 38,
   "id": "e994a176-3929-4462-9b13-2dab4910d153",
   "metadata": {},
   "outputs": [
    {
     "data": {
      "text/plain": [
       "array([[ 2.2],\n",
       "       [ 6.2],\n",
       "       [10.2]])"
      ]
     },
     "execution_count": 38,
     "metadata": {},
     "output_type": "execute_result"
    }
   ],
   "source": [
    "marks_array @ weights_array"
   ]
  },
  {
   "cell_type": "code",
   "execution_count": null,
   "id": "9feab7d0-e3a3-4d46-a78d-265b44b176f2",
   "metadata": {},
   "outputs": [],
   "source": []
  }
 ],
 "metadata": {
  "kernelspec": {
   "display_name": "Python 3 (ipykernel)",
   "language": "python",
   "name": "python3"
  },
  "language_info": {
   "codemirror_mode": {
    "name": "ipython",
    "version": 3
   },
   "file_extension": ".py",
   "mimetype": "text/x-python",
   "name": "python",
   "nbconvert_exporter": "python",
   "pygments_lexer": "ipython3",
   "version": "3.12.0"
  }
 },
 "nbformat": 4,
 "nbformat_minor": 5
}
